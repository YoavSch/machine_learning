{
 "cells": [
  {
   "cell_type": "markdown",
   "metadata": {},
   "source": [
    "# Create with NumPy the following 2D array\n",
    "\n",
    "| 1 \t| 1 \t| 1 \t| 1 \t| 1 \t|\n",
    "|---\t|---\t|---\t|---\t|---\t|\n",
    "| 1 \t| 0 \t| 0 \t| 0 \t| 1 \t|\n",
    "| 1 \t| 0 \t| 9 \t| 0 \t| 1 \t|\n",
    "| 1 \t| 0 \t| 0 \t| 0 \t| 0 \t|\n",
    "| 1 \t| 1 \t| 1 \t| 1 \t| 1 \t|"
   ]
  },
  {
   "cell_type": "code",
   "execution_count": 14,
   "metadata": {},
   "outputs": [
    {
     "name": "stdout",
     "output_type": "stream",
     "text": [
      "[[1 1 1 1 1]\n",
      " [1 0 0 0 1]\n",
      " [1 0 9 0 1]\n",
      " [1 0 0 0 1]\n",
      " [1 1 1 1 1]]\n"
     ]
    }
   ],
   "source": [
    "import numpy as np\n",
    "output = np.ones((5,5), dtype='int32')\n",
    "\n",
    "\n",
    "z = np.zeros((3,3))\n",
    "z[1,1] = 9\n",
    "\n",
    "output[1:-1, 1: -1] = z\n",
    "print(output)"
   ]
  },
  {
   "cell_type": "markdown",
   "metadata": {},
   "source": [
    "### Find the following cells using the methods we have learned so far:\n",
    "\n",
    "| 1 \t| 2 \t| 3 \t| 4 \t| 5 \t|\n",
    "|---\t|---\t|---\t|---\t|---\t|\n",
    "| 6 \t| 7 \t| 8 \t| 9 \t| 10 \t|\n",
    "| 11 \t| 12 \t| 13 \t| 14 \t| 15 \t|\n",
    "| 16 \t| 17 \t| 18 \t| 19 \t| 20 \t|\n",
    "| 21 \t| 22 \t| 23 \t| 24 \t| 25 \t|\n",
    "| 26 \t| 27 \t| 28 \t| 29 \t| 30 \t|"
   ]
  },
  {
   "cell_type": "code",
   "execution_count": 31,
   "metadata": {},
   "outputs": [
    {
     "name": "stdout",
     "output_type": "stream",
     "text": [
      "[[11 12]\n",
      " [16 17]]\n",
      "[ 2  8 14 20]\n"
     ]
    }
   ],
   "source": [
    "a = np.array([[1,2,3,4,5], [6,7,8,9,10],[11,12,13,14,15], [16,17,18,19,20], [21,22,23,24,25],[26,27,28,29,30]])\n",
    "\n",
    "print(a[2:4, 0:2])\n",
    "print(a[[0,1,2,3],[1,2,3,4]])"
   ]
  }
 ],
 "metadata": {
  "kernelspec": {
   "display_name": "Python 3",
   "language": "python",
   "name": "python3"
  },
  "language_info": {
   "codemirror_mode": {
    "name": "ipython",
    "version": 3
   },
   "file_extension": ".py",
   "mimetype": "text/x-python",
   "name": "python",
   "nbconvert_exporter": "python",
   "pygments_lexer": "ipython3",
   "version": "3.8.3"
  }
 },
 "nbformat": 4,
 "nbformat_minor": 4
}
